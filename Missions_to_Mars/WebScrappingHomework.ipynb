{
 "cells": [
  {
   "cell_type": "code",
   "execution_count": null,
   "metadata": {},
   "outputs": [],
   "source": [
    "#import dependencies\n",
    "import pandas as pd\n",
    "import os\n",
    "import requests\n",
    "import warnings\n",
    "from bs4 import BeautifulSoup as bs\n",
    "from splinter import Browser\n",
    "from webdriver_manager.chrome import ChromeDriverManager\n"
   ]
  },
  {
   "cell_type": "code",
   "execution_count": null,
   "metadata": {},
   "outputs": [],
   "source": [
    "#set executable path and browser\n",
    "executable_path = {'executable_path': ChromeDriverManager().install()}\n",
    "browser = Browser('chrome', **executable_path, headless=False)"
   ]
  },
  {
   "cell_type": "code",
   "execution_count": null,
   "metadata": {},
   "outputs": [],
   "source": [
    "#set url\n",
    "url = \"https://mars.nasa.gov/news\"\n",
    "browser.visit(url)\n",
    "html = browser.html"
   ]
  },
  {
   "cell_type": "code",
   "execution_count": null,
   "metadata": {},
   "outputs": [],
   "source": [
    "soup = bs(html, 'html.parser')"
   ]
  },
  {
   "cell_type": "code",
   "execution_count": null,
   "metadata": {},
   "outputs": [],
   "source": [
    "#get li in class 'slide' and print\n",
    "articles = soup.find_all('li', class_='slide')[0]\n",
    "print(articles.prettify())"
   ]
  },
  {
   "cell_type": "code",
   "execution_count": null,
   "metadata": {},
   "outputs": [],
   "source": [
    "#find the headline in the 'content_title' class\n",
    "headline = articles.find(class_='content_title').text\n",
    "headline"
   ]
  },
  {
   "cell_type": "code",
   "execution_count": null,
   "metadata": {},
   "outputs": [],
   "source": [
    "#go to URL for JPL featured space image\n",
    "url = \"https://data-class-jpl-space.s3.amazonaws.com/JPL_Space/index.html\"\n",
    "browser.visit(url)\n",
    "html = browser.html"
   ]
  },
  {
   "cell_type": "code",
   "execution_count": null,
   "metadata": {},
   "outputs": [],
   "source": [
    "soup = bs(html, 'html.parser')"
   ]
  },
  {
   "cell_type": "code",
   "execution_count": null,
   "metadata": {},
   "outputs": [],
   "source": [
    "#find header with image\n",
    "image = soup.find_all('div', class_='header')[0]\n",
    "print(image.prettify())"
   ]
  },
  {
   "cell_type": "code",
   "execution_count": null,
   "metadata": {},
   "outputs": [],
   "source": [
    "# find image under proper class \n",
    "featured_image = image.find('img', class_='headerimage fade-in')\n",
    "featured_image = featured_image.attrs.get('src', None)\n",
    "featured_image"
   ]
  },
  {
   "cell_type": "code",
   "execution_count": null,
   "metadata": {},
   "outputs": [],
   "source": [
    "#print featured image url\n",
    "featured_image_url = os.path.dirname(url)\n",
    "print(featured_image_url)"
   ]
  },
  {
   "cell_type": "code",
   "execution_count": null,
   "metadata": {},
   "outputs": [],
   "source": [
    "#print root url with image\n",
    "complete_image_url = f'{url}/{featured_image}'\n",
    "print(complete_image_url)"
   ]
  },
  {
   "cell_type": "code",
   "execution_count": null,
   "metadata": {},
   "outputs": [],
   "source": [
    "# open mars fact url and view data\n",
    "mars_facts_url = \"https://space-facts.com/mars/\"\n",
    "table = pd.read_html(mars_facts_url)\n",
    "print(table)"
   ]
  },
  {
   "cell_type": "code",
   "execution_count": null,
   "metadata": {},
   "outputs": [],
   "source": [
    "#create mars fact dataframe\n",
    "mars_facts_df = table[0]\n",
    "mars_facts_df"
   ]
  },
  {
   "cell_type": "code",
   "execution_count": null,
   "metadata": {},
   "outputs": [],
   "source": [
    "#create html table\n",
    "mars_html = mars_facts_df.to_html()\n",
    "mars_html = mars_html.replace('\\n', '')\n",
    "mars_html"
   ]
  },
  {
   "cell_type": "code",
   "execution_count": null,
   "metadata": {},
   "outputs": [],
   "source": [
    "#Visit the USGS Astrogeology site\n",
    "astrogeology_url = \"https://astrogeology.usgs.gov/search/map/Mars/Viking\"\n",
    "\n",
    "valles_marineris_html = requests.get(f'{astrogeology_url}/valles_marineris_enhanced')\n",
    "cerberus_html = requests.get(f'{astrogeology_url}/cerberus_enhanced')\n",
    "schiaparelli_html = requests.get(f'{astrogeology_url}/schiaparelli_enhanced')\n",
    "syrtis_major_html = requests.get(f'{astrogeology_url}/syrtis_major_enhanced')\n"
   ]
  },
  {
   "cell_type": "code",
   "execution_count": null,
   "metadata": {},
   "outputs": [],
   "source": [
    "#parse beautiful soup objects\n",
    "\n",
    "soup_vm = bs(valles_marineris_html.text, 'html.parser')\n",
    "soup_cb = bs(schiaparelli_html.text, 'html.parser')\n",
    "soup_sc = bs(schiaparelli_html.text, 'html.parser')\n",
    "soup_sm = bs(syrtis_major_html.text, 'html.parser')\n",
    "\n"
   ]
  },
  {
   "cell_type": "code",
   "execution_count": null,
   "metadata": {},
   "outputs": [],
   "source": [
    "#create list for dictionaries\n",
    "astrogeology_image_urls = []"
   ]
  },
  {
   "cell_type": "code",
   "execution_count": null,
   "metadata": {},
   "outputs": [],
   "source": [
    "# get teh class that has the needed info\n",
    "results_vm = soup_vm.find_all('div', class_='container')\n",
    "results_cb = soup_cb.find_all('div', class_='container')\n",
    "results_sc = soup_sc.find_all('div', class_='container')\n",
    "results_sm = soup_sm.find_all('div', class_='container')"
   ]
  },
  {
   "cell_type": "code",
   "execution_count": null,
   "metadata": {},
   "outputs": [],
   "source": [
    "#set up loop\n",
    "astrogeology_results = [results_vm, results_cb, results_sc, results_sm]"
   ]
  },
  {
   "cell_type": "code",
   "execution_count": null,
   "metadata": {},
   "outputs": [],
   "source": [
    "# run loop\n",
    "for result in astrogeology_results:\n",
    "    for r in result:\n",
    "        title = r.find('h2', class_='title').text\n",
    "        img_url = r.find('img', class_='wide-image')\n",
    "        img_url = img_url.attrs.get('src', None)\n",
    "        img_url = f\"https://astrogeology.usgs.gov{img_url}\"\n",
    "        results_dict = {\"title\": title, \"img_url\": img_url}\n",
    "        astrogeology_image_urls.append(results_dict)\n",
    "    \n",
    "#print results\n",
    "astrogeology_image_urls\n",
    "        "
   ]
  },
  {
   "cell_type": "code",
   "execution_count": null,
   "metadata": {},
   "outputs": [],
   "source": [
    "#quit browser\n",
    "browser.quit()"
   ]
  }
 ],
 "metadata": {
  "kernelspec": {
   "display_name": "Python 3",
   "language": "python",
   "name": "python3"
  },
  "language_info": {
   "codemirror_mode": {
    "name": "ipython",
    "version": 3
   },
   "file_extension": ".py",
   "mimetype": "text/x-python",
   "name": "python",
   "nbconvert_exporter": "python",
   "pygments_lexer": "ipython3",
   "version": "3.8.5"
  }
 },
 "nbformat": 4,
 "nbformat_minor": 4
}
