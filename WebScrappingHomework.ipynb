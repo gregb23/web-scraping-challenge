{
 "cells": [
  {
   "cell_type": "code",
   "execution_count": 1,
   "metadata": {},
   "outputs": [],
   "source": [
    "#import dependencies\n",
    "import pandas as pd\n",
    "import os\n",
    "import requests\n",
    "import warnings\n",
    "from bs4 import BeautifulSoup as bs\n",
    "from splinter import Browser\n",
    "from webdriver_manager.chrome import ChromeDriverManager\n"
   ]
  },
  {
   "cell_type": "code",
   "execution_count": 2,
   "metadata": {},
   "outputs": [
    {
     "name": "stderr",
     "output_type": "stream",
     "text": [
      "[WDM] - ====== WebDriver manager ======\n"
     ]
    },
    {
     "name": "stdout",
     "output_type": "stream",
     "text": [
      "\n",
      "\n"
     ]
    },
    {
     "name": "stderr",
     "output_type": "stream",
     "text": [
      "[WDM] - Current google-chrome version is 89.0.4389\n",
      "[WDM] - Get LATEST driver version for 89.0.4389\n",
      "[WDM] - Driver [/Users/gregorybrown/.wdm/drivers/chromedriver/mac64/89.0.4389.23/chromedriver] found in cache\n"
     ]
    }
   ],
   "source": [
    "#set executable path and browser\n",
    "executable_path = {'executable_path': ChromeDriverManager().install()}\n",
    "browser = Browser('chrome', **executable_path, headless=False)"
   ]
  },
  {
   "cell_type": "code",
   "execution_count": 3,
   "metadata": {},
   "outputs": [],
   "source": [
    "#set url\n",
    "url = \"https://mars.nasa.gov/news\"\n",
    "browser.visit(url)\n",
    "html = browser.html"
   ]
  },
  {
   "cell_type": "code",
   "execution_count": 4,
   "metadata": {},
   "outputs": [],
   "source": [
    "soup = bs(html, 'html.parser')"
   ]
  },
  {
   "cell_type": "code",
   "execution_count": 5,
   "metadata": {},
   "outputs": [
    {
     "name": "stdout",
     "output_type": "stream",
     "text": [
      "<li class=\"slide\">\n",
      " <div class=\"image_and_description_container\">\n",
      "  <a href=\"/news/8907/nasas-curiosity-team-names-martian-hill-that-serves-as-mission-gateway/\" target=\"_self\">\n",
      "   <div class=\"rollover_description\">\n",
      "    <div class=\"rollover_description_inner\">\n",
      "     The name honors recently deceased mission scientist Rafael Navarro-González, who helped lead the team that identified ancient organic compounds on Mars\n",
      "    </div>\n",
      "    <div class=\"overlay_arrow\">\n",
      "     <img alt=\"More\" src=\"/assets/overlay-arrow.png\"/>\n",
      "    </div>\n",
      "   </div>\n",
      "   <div class=\"list_image\">\n",
      "    <img alt=\"Rafael Navarro Mountain on Mars  \" src=\"/system/news_items/list_view_images/8907_PIA24544-320.jpg\"/>\n",
      "   </div>\n",
      "   <div class=\"bottom_gradient\">\n",
      "    <div>\n",
      "     <h3>\n",
      "      NASA's Curiosity Team Names Martian Hill That Serves as Mission ‘Gateway'\n",
      "     </h3>\n",
      "    </div>\n",
      "   </div>\n",
      "  </a>\n",
      "  <div class=\"list_text\">\n",
      "   <div class=\"list_date\">\n",
      "    April  5, 2021\n",
      "   </div>\n",
      "   <div class=\"content_title\">\n",
      "    <a href=\"/news/8907/nasas-curiosity-team-names-martian-hill-that-serves-as-mission-gateway/\" target=\"_self\">\n",
      "     NASA's Curiosity Team Names Martian Hill That Serves as Mission ‘Gateway'\n",
      "    </a>\n",
      "   </div>\n",
      "   <div class=\"article_teaser_body\">\n",
      "    The name honors recently deceased mission scientist Rafael Navarro-González, who helped lead the team that identified ancient organic compounds on Mars\n",
      "   </div>\n",
      "  </div>\n",
      " </div>\n",
      "</li>\n",
      "\n"
     ]
    }
   ],
   "source": [
    "#get li in class 'slide' and print\n",
    "articles = soup.find_all('li', class_='slide')[0]\n",
    "print(articles.prettify())"
   ]
  },
  {
   "cell_type": "code",
   "execution_count": 6,
   "metadata": {},
   "outputs": [
    {
     "data": {
      "text/plain": [
       "\"NASA's Curiosity Team Names Martian Hill That Serves as Mission ‘Gateway'\""
      ]
     },
     "execution_count": 6,
     "metadata": {},
     "output_type": "execute_result"
    }
   ],
   "source": [
    "#find the headline in the 'content_title' class\n",
    "headline = articles.find(class_='content_title').text\n",
    "headline"
   ]
  },
  {
   "cell_type": "code",
   "execution_count": 7,
   "metadata": {},
   "outputs": [],
   "source": [
    "#go to URL for JPL featured space image\n",
    "url = \"https://data-class-jpl-space.s3.amazonaws.com/JPL_Space/index.html\"\n",
    "browser.visit(url)\n",
    "html = browser.html"
   ]
  },
  {
   "cell_type": "code",
   "execution_count": 8,
   "metadata": {},
   "outputs": [],
   "source": [
    "soup = bs(html, 'html.parser')"
   ]
  },
  {
   "cell_type": "code",
   "execution_count": 9,
   "metadata": {},
   "outputs": [
    {
     "name": "stdout",
     "output_type": "stream",
     "text": [
      "<div class=\"header\">\n",
      " <nav class=\"navbar navbar-expand-lg\">\n",
      "  <a class=\"navbar-brand\" href=\"#\">\n",
      "   <img id=\"logo\" src=\"image/nasa.png\"/>\n",
      "   <span class=\"logo\">\n",
      "    Jet Propulsion Laboratory\n",
      "   </span>\n",
      "   <span class=\"logo1\">\n",
      "    California Institute of Technology\n",
      "   </span>\n",
      "  </a>\n",
      "  <button aria-controls=\"navbarNav\" aria-expanded=\"false\" aria-label=\"Toggle navigation\" class=\"navbar-toggler\" data-target=\"#navbarNav\" data-toggle=\"collapse\" type=\"button\">\n",
      "   <span class=\"navbar-toggler-icon\">\n",
      "   </span>\n",
      "  </button>\n",
      "  <div class=\"collapse navbar-collapse justify-content-end\" id=\"navbarNav\">\n",
      "   <ul class=\"navbar-nav\">\n",
      "    <li class=\"nav-item active\">\n",
      "     <a class=\"nav-link\" href=\"#\">\n",
      "      <i aria-hidden=\"true\" class=\"fa fa-bars\">\n",
      "      </i>\n",
      "      MENU\n",
      "      <i aria-hidden=\"true\" class=\"fa fa-search\">\n",
      "      </i>\n",
      "     </a>\n",
      "    </li>\n",
      "   </ul>\n",
      "  </div>\n",
      " </nav>\n",
      " <div class=\"floating_text_area\">\n",
      "  <h2 class=\"brand_title\">\n",
      "   FEATURED IMAGE\n",
      "  </h2>\n",
      "  <h1 class=\"media_feature_title\">\n",
      "   Dusty Space Cloud\n",
      "  </h1>\n",
      "  <br/>\n",
      "  <a class=\"showimg fancybox-thumbs\" href=\"image/featured/mars3.jpg\" target=\"_blank\">\n",
      "   <button class=\"btn btn-outline-light\">\n",
      "    FULL IMAGE\n",
      "   </button>\n",
      "  </a>\n",
      " </div>\n",
      " <img class=\"headerimage fade-in\" src=\"image/featured/mars3.jpg\"/>\n",
      "</div>\n",
      "\n"
     ]
    }
   ],
   "source": [
    "#find header with image\n",
    "image = soup.find_all('div', class_='header')[0]\n",
    "print(image.prettify())"
   ]
  },
  {
   "cell_type": "code",
   "execution_count": 10,
   "metadata": {},
   "outputs": [
    {
     "data": {
      "text/plain": [
       "'image/featured/mars3.jpg'"
      ]
     },
     "execution_count": 10,
     "metadata": {},
     "output_type": "execute_result"
    }
   ],
   "source": [
    "# find image under proper class \n",
    "featured_image = image.find('img', class_='headerimage fade-in')\n",
    "featured_image = featured_image.attrs.get('src', None)\n",
    "featured_image"
   ]
  },
  {
   "cell_type": "code",
   "execution_count": null,
   "metadata": {},
   "outputs": [],
   "source": []
  }
 ],
 "metadata": {
  "kernelspec": {
   "display_name": "Python 3",
   "language": "python",
   "name": "python3"
  },
  "language_info": {
   "codemirror_mode": {
    "name": "ipython",
    "version": 3
   },
   "file_extension": ".py",
   "mimetype": "text/x-python",
   "name": "python",
   "nbconvert_exporter": "python",
   "pygments_lexer": "ipython3",
   "version": "3.8.5"
  }
 },
 "nbformat": 4,
 "nbformat_minor": 4
}
